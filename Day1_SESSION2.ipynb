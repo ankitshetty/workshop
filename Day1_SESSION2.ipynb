{
  "nbformat": 4,
  "nbformat_minor": 0,
  "metadata": {
    "colab": {
      "name": "Day1_SESSION2.ipynb",
      "provenance": [],
      "authorship_tag": "ABX9TyMXZzHS74j5tY5ttna2jWd/",
      "include_colab_link": true
    },
    "kernelspec": {
      "name": "python3",
      "display_name": "Python 3"
    }
  },
  "cells": [
    {
      "cell_type": "markdown",
      "metadata": {
        "id": "view-in-github",
        "colab_type": "text"
      },
      "source": [
        "<a href=\"https://colab.research.google.com/github/ankitshetty/workshop/blob/master/Day1_SESSION2.ipynb\" target=\"_parent\"><img src=\"https://colab.research.google.com/assets/colab-badge.svg\" alt=\"Open In Colab\"/></a>"
      ]
    },
    {
      "cell_type": "code",
      "metadata": {
        "id": "cc6eM6yqCR8J",
        "colab_type": "code",
        "colab": {
          "base_uri": "https://localhost:8080/",
          "height": 101
        },
        "outputId": "ef2c6f43-0755-4ede-f4b1-c4cd2c229e45"
      },
      "source": [
        "rows = 4\n",
        "for i in range(0, rows+1):\n",
        "    for j in range(i, i+i , 1):\n",
        "        print(j, end=' ')\n",
        "    print()"
      ],
      "execution_count": 1,
      "outputs": [
        {
          "output_type": "stream",
          "text": [
            "\n",
            "1 \n",
            "2 3 \n",
            "3 4 5 \n",
            "4 5 6 7 \n"
          ],
          "name": "stdout"
        }
      ]
    },
    {
      "cell_type": "code",
      "metadata": {
        "id": "QSt1PdpwCxop",
        "colab_type": "code",
        "colab": {
          "base_uri": "https://localhost:8080/",
          "height": 101
        },
        "outputId": "566ac671-a671-44a0-a2d5-64c3836d1105"
      },
      "source": [
        "rows = 4\n",
        "for i in range(0, rows+1):\n",
        "    for j in range(i, i+i , 1):\n",
        "        print('*', end=' ')\n",
        "    print()"
      ],
      "execution_count": 2,
      "outputs": [
        {
          "output_type": "stream",
          "text": [
            "\n",
            "* \n",
            "* * \n",
            "* * * \n",
            "* * * * \n"
          ],
          "name": "stdout"
        }
      ]
    },
    {
      "cell_type": "code",
      "metadata": {
        "id": "6R9GPhdaC3ED",
        "colab_type": "code",
        "colab": {}
      },
      "source": [
        ""
      ],
      "execution_count": null,
      "outputs": []
    },
    {
      "cell_type": "markdown",
      "metadata": {
        "id": "VHvIPCeUC53d",
        "colab_type": "text"
      },
      "source": [
        "### **write a program to print triangle**\n",
        "**bold text**"
      ]
    },
    {
      "cell_type": "code",
      "metadata": {
        "id": "lB40A0D2DNUA",
        "colab_type": "code",
        "colab": {
          "base_uri": "https://localhost:8080/",
          "height": 101
        },
        "outputId": "fd4259fa-48ac-4a5f-bac6-239fb419f1f4"
      },
      "source": [
        "rows = 5\n",
        "for i in range(0, rows):\n",
        "    for j in range(rows-i , rows+1 , 1):\n",
        "        print(j, end=' ')\n",
        "    print()"
      ],
      "execution_count": 3,
      "outputs": [
        {
          "output_type": "stream",
          "text": [
            "5 \n",
            "4 5 \n",
            "3 4 5 \n",
            "2 3 4 5 \n",
            "1 2 3 4 5 \n"
          ],
          "name": "stdout"
        }
      ]
    },
    {
      "cell_type": "code",
      "metadata": {
        "id": "CMm6Odj2C_Ho",
        "colab_type": "code",
        "colab": {
          "base_uri": "https://localhost:8080/",
          "height": 118
        },
        "outputId": "33620ce7-95b2-4fca-dd5b-83ef7e9f68eb"
      },
      "source": [
        "rows = 5\n",
        "for i in range(0, rows+1):\n",
        "    for j in range(rows-i, 0 , -1):\n",
        "        print(j, end=' ')\n",
        "    print()"
      ],
      "execution_count": 4,
      "outputs": [
        {
          "output_type": "stream",
          "text": [
            "5 4 3 2 1 \n",
            "4 3 2 1 \n",
            "3 2 1 \n",
            "2 1 \n",
            "1 \n",
            "\n"
          ],
          "name": "stdout"
        }
      ]
    },
    {
      "cell_type": "code",
      "metadata": {
        "id": "37E2DxwSDUuL",
        "colab_type": "code",
        "colab": {
          "base_uri": "https://localhost:8080/",
          "height": 134
        },
        "outputId": "9d980af4-22b0-49db-fe27-c77b20618999"
      },
      "source": [
        "rows = 4\n",
        "for i in range(1, rows+1):\n",
        "    for j in range(i, rows+1 , 1):\n",
        "        print(j, end=' ')\n",
        "    print()\n",
        "for i in range(1,rows):\n",
        "  for j in range(rows-i,rows+1,1):\n",
        "    print(j,end=\" \")\n",
        "  print()"
      ],
      "execution_count": 5,
      "outputs": [
        {
          "output_type": "stream",
          "text": [
            "1 2 3 4 \n",
            "2 3 4 \n",
            "3 4 \n",
            "4 \n",
            "3 4 \n",
            "2 3 4 \n",
            "1 2 3 4 \n"
          ],
          "name": "stdout"
        }
      ]
    },
    {
      "cell_type": "code",
      "metadata": {
        "id": "mahekbFtDXRY",
        "colab_type": "code",
        "colab": {}
      },
      "source": [
        ""
      ],
      "execution_count": null,
      "outputs": []
    },
    {
      "cell_type": "markdown",
      "metadata": {
        "id": "8H9kXvU9DcaQ",
        "colab_type": "text"
      },
      "source": [
        "### **Find the length of a string without using len functions**"
      ]
    },
    {
      "cell_type": "code",
      "metadata": {
        "id": "5nE9d9DSDgVs",
        "colab_type": "code",
        "colab": {
          "base_uri": "https://localhost:8080/",
          "height": 67
        },
        "outputId": "c7cf21c9-e385-48a3-a723-80c8021e07e5"
      },
      "source": [
        "string=str(input(\"Enter string:\"))\n",
        "count=0\n",
        "for i in string:\n",
        "      count=count+1\n",
        "print(\"Length of the string is:\")\n",
        "print(count)"
      ],
      "execution_count": 6,
      "outputs": [
        {
          "output_type": "stream",
          "text": [
            "Enter string:ankit\n",
            "Length of the string is:\n",
            "5\n"
          ],
          "name": "stdout"
        }
      ]
    },
    {
      "cell_type": "code",
      "metadata": {
        "id": "-Tyok124DozC",
        "colab_type": "code",
        "colab": {}
      },
      "source": [
        ""
      ],
      "execution_count": null,
      "outputs": []
    },
    {
      "cell_type": "markdown",
      "metadata": {
        "id": "kTDDzZuQDs6Y",
        "colab_type": "text"
      },
      "source": [
        "## **Find the no of words and characters in a string**"
      ]
    },
    {
      "cell_type": "code",
      "metadata": {
        "id": "t5Dc4b-ZDv7D",
        "colab_type": "code",
        "colab": {
          "base_uri": "https://localhost:8080/",
          "height": 67
        },
        "outputId": "18879307-393b-4725-97da-3ffa5fe48002"
      },
      "source": [
        "def count(s):\n",
        "  c=0\n",
        "  a=s.split()\n",
        "  v=len(a)\n",
        "  for i in a:\n",
        "    c=c+len(i)\n",
        "  print(\"word count=\",v)\n",
        "  print(\"sentence count=\",c)\n",
        "s=str(input(\"enter the string:\"))\n",
        "count(s)"
      ],
      "execution_count": 7,
      "outputs": [
        {
          "output_type": "stream",
          "text": [
            "enter the string:ankit\n",
            "word count= 1\n",
            "sentence count= 5\n"
          ],
          "name": "stdout"
        }
      ]
    },
    {
      "cell_type": "markdown",
      "metadata": {
        "id": "5_oKUSa7D8-X",
        "colab_type": "text"
      },
      "source": [
        "## **Find the no of occurrences of a word in a string**"
      ]
    },
    {
      "cell_type": "code",
      "metadata": {
        "id": "RrMnbyT3EAXk",
        "colab_type": "code",
        "colab": {
          "base_uri": "https://localhost:8080/",
          "height": 67
        },
        "outputId": "c75297fd-1179-4156-fac0-d56433f0094a"
      },
      "source": [
        "def countOccurences(str, word): \n",
        "    a = str.split(\" \")  \n",
        "    count = 0\n",
        "    for i in range(0, len(a)):   \n",
        "        if (word == a[i]): \n",
        "           count = count + 1\n",
        "    return count        \n",
        "string =str(input(\"enter the string:\"))\n",
        "word =str(input(\"enter the word:\"))\n",
        "print(countOccurences(string, word))"
      ],
      "execution_count": 9,
      "outputs": [
        {
          "output_type": "stream",
          "text": [
            "enter the string:ankit suresh shetty\n",
            "enter the word:suresh\n",
            "1\n"
          ],
          "name": "stdout"
        }
      ]
    },
    {
      "cell_type": "code",
      "metadata": {
        "id": "E_lDz7FxDi4v",
        "colab_type": "code",
        "colab": {}
      },
      "source": [
        ""
      ],
      "execution_count": null,
      "outputs": []
    }
  ]
}