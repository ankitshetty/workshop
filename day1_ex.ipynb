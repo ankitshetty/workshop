{
  "nbformat": 4,
  "nbformat_minor": 0,
  "metadata": {
    "colab": {
      "name": "day1 ex.ipynb",
      "provenance": [],
      "collapsed_sections": [],
      "authorship_tag": "ABX9TyOjsH1eTpuXyk7LDg6/HFz0",
      "include_colab_link": true
    },
    "kernelspec": {
      "name": "python3",
      "display_name": "Python 3"
    }
  },
  "cells": [
    {
      "cell_type": "markdown",
      "metadata": {
        "id": "view-in-github",
        "colab_type": "text"
      },
      "source": [
        "<a href=\"https://colab.research.google.com/github/ankitshetty/workshop/blob/master/day1_ex.ipynb\" target=\"_parent\"><img src=\"https://colab.research.google.com/assets/colab-badge.svg\" alt=\"Open In Colab\"/></a>"
      ]
    },
    {
      "cell_type": "code",
      "metadata": {
        "id": "V36cV0eApTbH",
        "colab_type": "code",
        "colab": {}
      },
      "source": [
        "import random\n"
      ],
      "execution_count": 1,
      "outputs": []
    },
    {
      "cell_type": "code",
      "metadata": {
        "id": "wbMiuQKSqvkY",
        "colab_type": "code",
        "colab": {
          "base_uri": "https://localhost:8080/",
          "height": 84
        },
        "outputId": "4a876213-31c9-4b96-c975-b245d96a9ec5"
      },
      "source": [
        "\n",
        "\n",
        "import cmath\n",
        "p = int(input('enter p'))\n",
        "n = int(input('enter n'))\n",
        "r = int(input('enter r'))\n",
        "ci = p * (pow((1 + r / 100), n))\n",
        "print(ci) "
      ],
      "execution_count": null,
      "outputs": [
        {
          "output_type": "stream",
          "text": [
            "enter p1200\n",
            "enter n2\n",
            "enter r2\n",
            "1248.48\n"
          ],
          "name": "stdout"
        }
      ]
    },
    {
      "cell_type": "code",
      "metadata": {
        "id": "8SEZH49Rs_1B",
        "colab_type": "code",
        "colab": {
          "base_uri": "https://localhost:8080/",
          "height": 50
        },
        "outputId": "c044848c-41b8-4278-9c5b-f1af2f57f219"
      },
      "source": [
        "\n",
        "c = int(input('enter temp in celcius'))\n",
        "f = 9/5*c+32\n",
        "print('degree in farheneit is',f)"
      ],
      "execution_count": null,
      "outputs": [
        {
          "output_type": "stream",
          "text": [
            "enter temp in celcius24\n",
            "degree in farheneit is 75.2\n"
          ],
          "name": "stdout"
        }
      ]
    },
    {
      "cell_type": "code",
      "metadata": {
        "id": "e11vVImK5uEm",
        "colab_type": "code",
        "colab": {
          "base_uri": "https://localhost:8080/",
          "height": 67
        },
        "outputId": "47ac194a-a274-4013-e587-37e6b2a04ddb"
      },
      "source": [
        "a = int(input('enter first no'))\n",
        "b = int(input('enter second no'))\n",
        "if a>b:\n",
        "  print('%d is greater than %d'%(a,b))\n",
        "else:\n",
        "  print ('%d is greater than %d'%(b,a))"
      ],
      "execution_count": 3,
      "outputs": [
        {
          "output_type": "stream",
          "text": [
            "enter first no3\n",
            "enter second no2\n",
            "3 is greater than 2\n"
          ],
          "name": "stdout"
        }
      ]
    },
    {
      "cell_type": "code",
      "metadata": {
        "id": "7IGiKx2w6jma",
        "colab_type": "code",
        "colab": {
          "base_uri": "https://localhost:8080/",
          "height": 118
        },
        "outputId": "24386e26-64f8-49a0-deea-00a026a22908"
      },
      "source": [
        "def cylinder(a,b):\n",
        "  c = 2*3.147*a*a*b\n",
        "  return c\n",
        "\n",
        "def cone (d,e):\n",
        "  f = 1/3 *3.147*d*d*e\n",
        "  return f\n",
        "\n",
        "r = int(input('enter radius  of cylinder'))\n",
        "h = int(input('enter height of cylinder'))\n",
        "R = int(input('enter radius  of cone'))\n",
        "H = int(input('enter  height of cone'))\n",
        "print('surface area of cylinder is ', cylinder(r,h))\n",
        "\n",
        "print('surface area of cone is ', cone(R,H))"
      ],
      "execution_count": 7,
      "outputs": [
        {
          "output_type": "stream",
          "text": [
            "enter radius  of cylinder2\n",
            "enter height of cylinder3\n",
            "enter radius  of cone2\n",
            "enter  height of cone3\n",
            "surface area of cylinder is  75.52799999999999\n",
            "surface area of cone is  12.588\n"
          ],
          "name": "stdout"
        }
      ]
    },
    {
      "cell_type": "code",
      "metadata": {
        "id": "UWBvFsfm83vX",
        "colab_type": "code",
        "colab": {
          "base_uri": "https://localhost:8080/",
          "height": 101
        },
        "outputId": "df5f3c7a-1e8a-4d06-dca4-7ca24e99a03a"
      },
      "source": [
        "def max(d,e,f,g):\n",
        "  if d>e and d>f and d>g:\n",
        "    print( 'greatest no is: ',d)\n",
        "  elif e>d and e>f and e>g:\n",
        "     print('greatest no is:',e)\n",
        "  elif f>d and f>e and f>g:\n",
        "      print('greatest is :',f)\n",
        "  else:\n",
        "      print('greatest is:',g)\n",
        "\n",
        "a = int(input('enter 1st no'))\n",
        "b = int(input('enter 2nd no'))\n",
        "c = int(input('enter 3rd no'))\n",
        "d = int(input('enter 4th no'))\n",
        "max(a,b,c,d)"
      ],
      "execution_count": 10,
      "outputs": [
        {
          "output_type": "stream",
          "text": [
            "enter 1st no2\n",
            "enter 2nd no3\n",
            "enter 3rd no4\n",
            "enter 4th no5\n",
            "greatest is: 5\n"
          ],
          "name": "stdout"
        }
      ]
    },
    {
      "cell_type": "code",
      "metadata": {
        "id": "ZftMY2Rx-7v3",
        "colab_type": "code",
        "colab": {
          "base_uri": "https://localhost:8080/",
          "height": 409
        },
        "outputId": "fa62631f-eb4b-496a-a0da-7d96c4391008"
      },
      "source": [
        "loop = 1 \n",
        "choice = 0\n",
        "def odd_even(x):\n",
        "  if x%2==0:\n",
        "    return True\n",
        "  else:\n",
        "    return False\n",
        "\n",
        "def fact(x):\n",
        "  if(x==0):\n",
        "    return 1\n",
        "  else:\n",
        "    return x*fact(x-1)\n",
        "\n",
        "def OddUpto(x):\n",
        "  for num in range(1,x+1):\n",
        "    if num % 2 != 0: \n",
        "        print(num, end = \" \")\n",
        "  print(\" \") \n",
        "  print(\" \") \n",
        "\n",
        "def PrimeUpto(x):\n",
        "  for num in range(2,x+1):\n",
        "    i = 2\n",
        "    for i in range(2, num):\n",
        "        if(num % i == 0):\n",
        "            i = num\n",
        "            break;\n",
        "    if(i != num):\n",
        "        print(num, end=\" \")\n",
        "  print(\" \") \n",
        "  print(\" \") \n",
        "\n",
        "while loop == 1:\n",
        "  print(\"Menu:\") \n",
        "  print(\"\")\n",
        "  print(\"1) Odd or Even\")\n",
        "  print(\"2) Factorial\")\n",
        "  print(\"3) Odd number Upto N\")\n",
        "  print(\"4) Prime number Upto N \")\n",
        "  print(\"5) Quit\")\n",
        "  print(\"\")\n",
        "  try:\n",
        "    choice = int(input(\"Choose your option: \"))\n",
        "  except:\n",
        "    print('please enter a valid number for option')\n",
        "    print(\"\")\n",
        "    print(\"\")\n",
        "  if choice == 1:\n",
        "    x = int(input(\"Enter a value: \"))\n",
        "    if odd_even(x):\n",
        "      print(x,\" is even\")\n",
        "    else:\n",
        "      print(x,\" is odd\")\n",
        "\n",
        "  elif choice == 2:\n",
        "    x = int(input(\"Enter a value: \"))\n",
        "    print(\"Factorial of \",x,\" is \",fact(x))\n",
        "\n",
        "  elif choice == 3:\n",
        "    x = int(input(\"Enter a value: \"))\n",
        "    print(\"Odd numbers upto \",x,\" are:\")\n",
        "    OddUpto(x)\n",
        "\n",
        "  elif choice == 4:\n",
        "    x = int(input(\"Enter a value: \"))\n",
        "    print(\"Prime numbers upto \",x,\" are:\")\n",
        "    PrimeUpto(x)\n",
        "\n",
        "  elif choice == 5:\n",
        "    loop = 0\n",
        "\n",
        "  else:\n",
        "    print(\"please choice a valid option from 1 to 5\")\n",
        "    choice=0"
      ],
      "execution_count": null,
      "outputs": [
        {
          "output_type": "stream",
          "text": [
            "Menu:\n",
            "\n",
            "1) Odd or Even\n",
            "2) Factorial\n",
            "3) Odd number Upto N\n",
            "4) Prime number Upto N \n",
            "5) Quit\n",
            "\n",
            "Choose your option: 3\n",
            "Enter a value: 4\n",
            "Odd numbers upto  4  are:\n",
            "1 3  \n",
            " \n",
            "Menu:\n",
            "\n",
            "1) Odd or Even\n",
            "2) Factorial\n",
            "3) Odd number Upto N\n",
            "4) Prime number Upto N \n",
            "5) Quit\n",
            "\n"
          ],
          "name": "stdout"
        }
      ]
    }
  ]
}