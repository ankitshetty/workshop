{
  "nbformat": 4,
  "nbformat_minor": 0,
  "metadata": {
    "colab": {
      "name": "Untitled2.ipynb",
      "provenance": [],
      "authorship_tag": "ABX9TyP+ukgSuiC9n9pR21oK9CE6",
      "include_colab_link": true
    },
    "kernelspec": {
      "name": "python3",
      "display_name": "Python 3"
    }
  },
  "cells": [
    {
      "cell_type": "markdown",
      "metadata": {
        "id": "view-in-github",
        "colab_type": "text"
      },
      "source": [
        "<a href=\"https://colab.research.google.com/github/ankitshetty/workshop/blob/master/day2_session1.ipynb\" target=\"_parent\"><img src=\"https://colab.research.google.com/assets/colab-badge.svg\" alt=\"Open In Colab\"/></a>"
      ]
    },
    {
      "cell_type": "code",
      "metadata": {
        "id": "g-nefRyoGaMf",
        "colab_type": "code",
        "colab": {}
      },
      "source": [
        ""
      ],
      "execution_count": null,
      "outputs": []
    },
    {
      "cell_type": "markdown",
      "metadata": {
        "id": "-etVwJ2RGff8",
        "colab_type": "text"
      },
      "source": [
        "# \n",
        "# List Exercises\n",
        "# **Print multiples of 3 upto 200 using a list **"
      ]
    },
    {
      "cell_type": "code",
      "metadata": {
        "id": "G86WvOe5G07k",
        "colab_type": "code",
        "colab": {
          "base_uri": "https://localhost:8080/",
          "height": 54
        },
        "outputId": "7663db87-ec8f-473a-9019-a8259c575a5a"
      },
      "source": [
        "a = [i for i in range(0,200) if i%3==0]\n",
        "print(a)"
      ],
      "execution_count": null,
      "outputs": [
        {
          "output_type": "stream",
          "text": [
            "[0, 3, 6, 9, 12, 15, 18, 21, 24, 27, 30, 33, 36, 39, 42, 45, 48, 51, 54, 57, 60, 63, 66, 69, 72, 75, 78, 81, 84, 87, 90, 93, 96, 99, 102, 105, 108, 111, 114, 117, 120, 123, 126, 129, 132, 135, 138, 141, 144, 147, 150, 153, 156, 159, 162, 165, 168, 171, 174, 177, 180, 183, 186, 189, 192, 195, 198]\n"
          ],
          "name": "stdout"
        }
      ]
    },
    {
      "cell_type": "code",
      "metadata": {
        "id": "7UJqoWaeG4P-",
        "colab_type": "code",
        "colab": {}
      },
      "source": [
        ""
      ],
      "execution_count": null,
      "outputs": []
    },
    {
      "cell_type": "markdown",
      "metadata": {
        "id": "qojZv8NFG-XI",
        "colab_type": "text"
      },
      "source": [
        "# **print the nos only divisable by 5 and 7 between 1000 and 2000 using a list( both inclusive)**"
      ]
    },
    {
      "cell_type": "code",
      "metadata": {
        "id": "QPT4ZTwmHB-u",
        "colab_type": "code",
        "colab": {
          "base_uri": "https://localhost:8080/",
          "height": 34
        },
        "outputId": "80861a16-b13d-4eb6-f574-936249d5b48c"
      },
      "source": [
        "a = [i for i in range(1000,2000) if i%5==0 and i%7==0]\n",
        "print(a)"
      ],
      "execution_count": null,
      "outputs": [
        {
          "output_type": "stream",
          "text": [
            "[1015, 1050, 1085, 1120, 1155, 1190, 1225, 1260, 1295, 1330, 1365, 1400, 1435, 1470, 1505, 1540, 1575, 1610, 1645, 1680, 1715, 1750, 1785, 1820, 1855, 1890, 1925, 1960, 1995]\n"
          ],
          "name": "stdout"
        }
      ]
    },
    {
      "cell_type": "code",
      "metadata": {
        "id": "ngk7Hi68HFIi",
        "colab_type": "code",
        "colab": {}
      },
      "source": [
        ""
      ],
      "execution_count": null,
      "outputs": []
    },
    {
      "cell_type": "markdown",
      "metadata": {
        "id": "84dp0wGjHJnc",
        "colab_type": "text"
      },
      "source": [
        "# **Add the n number of names in a list and print them alphabetically and reverse alphabetically.**"
      ]
    },
    {
      "cell_type": "code",
      "metadata": {
        "id": "6gD-HijgHLxT",
        "colab_type": "code",
        "colab": {
          "base_uri": "https://localhost:8080/",
          "height": 151
        },
        "outputId": "7bc29f4b-1768-4aa6-bf46-5dab960ce17c"
      },
      "source": [
        "l = []\n",
        "b=[]\n",
        "n =int(input(\"Enter the size\"))\n",
        "for i in range(n):\n",
        "  a = str(input())\n",
        "  l.append(a)\n",
        "b = sorted(l)\n",
        "print(sorted(l))\n",
        "print(b[::-1])"
      ],
      "execution_count": null,
      "outputs": [
        {
          "output_type": "stream",
          "text": [
            "Enter the size5\n",
            "ankit\n",
            "geeta\n",
            "nishu\n",
            "suresh\n",
            "shetty\n",
            "['ankit', 'geeta', 'nishu', 'shetty', 'suresh']\n",
            "['suresh', 'shetty', 'nishu', 'geeta', 'ankit']\n"
          ],
          "name": "stdout"
        }
      ]
    },
    {
      "cell_type": "markdown",
      "metadata": {
        "id": "_t0yDK2xHrpz",
        "colab_type": "text"
      },
      "source": [
        "# **Print perfect squares and divisible by 5 between 500 and 1000( (both inclusive) using list**"
      ]
    },
    {
      "cell_type": "code",
      "metadata": {
        "id": "WjG9E7SQIFb3",
        "colab_type": "code",
        "colab": {
          "base_uri": "https://localhost:8080/",
          "height": 34
        },
        "outputId": "db7324ce-4972-4bbc-abeb-4bb8f221f88e"
      },
      "source": [
        "a =[]\n",
        "for i in range(500,1000):\n",
        "  j =1\n",
        "  while j*j <=i:\n",
        "    if j*j == i:\n",
        "      a.append(i)\n",
        "    j =j+1\n",
        "  i =i+1\n",
        "b = []\n",
        "for i in a:\n",
        "  if(i%5==0):\n",
        "    b.append(i)\n",
        "print(b)"
      ],
      "execution_count": 6,
      "outputs": [
        {
          "output_type": "stream",
          "text": [
            "[625, 900]\n"
          ],
          "name": "stdout"
        }
      ]
    },
    {
      "cell_type": "code",
      "metadata": {
        "id": "zBxAJwZnHOhZ",
        "colab_type": "code",
        "colab": {}
      },
      "source": [
        ""
      ],
      "execution_count": null,
      "outputs": []
    },
    {
      "cell_type": "markdown",
      "metadata": {
        "id": "KCqGP4bZIVbW",
        "colab_type": "text"
      },
      "source": [
        "### **Tuples**\n",
        "# **Get a string and store word by word as elements in a tuple and find the largest word in the tuple and print it**"
      ]
    },
    {
      "cell_type": "code",
      "metadata": {
        "id": "useFiKogIdHa",
        "colab_type": "code",
        "colab": {
          "base_uri": "https://localhost:8080/",
          "height": 34
        },
        "outputId": "0b467d9b-7178-475f-ba50-8cca8a131670"
      },
      "source": [
        "s = \"python is good\"\n",
        "a = s.split()\n",
        "t = tuple(i for i in a)\n",
        "print(max(t))"
      ],
      "execution_count": 7,
      "outputs": [
        {
          "output_type": "stream",
          "text": [
            "python\n"
          ],
          "name": "stdout"
        }
      ]
    },
    {
      "cell_type": "code",
      "metadata": {
        "id": "btgZZ5dVIgdf",
        "colab_type": "code",
        "colab": {}
      },
      "source": [
        ""
      ],
      "execution_count": null,
      "outputs": []
    },
    {
      "cell_type": "markdown",
      "metadata": {
        "id": "Jez1AIN1ImpE",
        "colab_type": "text"
      },
      "source": [
        "# **Get rollno and marks (Rollno, mark) as list of tuples for n number of students through keyboard and print them in marks descending order with rollno.**"
      ]
    },
    {
      "cell_type": "code",
      "metadata": {
        "id": "NaRt7ks9Ipy-",
        "colab_type": "code",
        "colab": {
          "base_uri": "https://localhost:8080/",
          "height": 185
        },
        "outputId": "40bbe445-4dec-41f2-bb38-90b2c3b7529e"
      },
      "source": [
        "print(sorted([(input(\"Enter rollno: \"), input(\"Enter marks: \")) for i in range(int(input(\"Enter number of students\")))], key=lambda x: x[1],reverse=True))"
      ],
      "execution_count": 8,
      "outputs": [
        {
          "output_type": "stream",
          "text": [
            "Enter number of students4\n",
            "Enter rollno: 11\n",
            "Enter marks: 2222\n",
            "Enter rollno: 12\n",
            "Enter marks: 222222\n",
            "Enter rollno: 13\n",
            "Enter marks: 333333333\n",
            "Enter rollno: 14\n",
            "Enter marks: 545\n",
            "[('14', '545'), ('13', '333333333'), ('12', '222222'), ('11', '2222')]\n"
          ],
          "name": "stdout"
        }
      ]
    },
    {
      "cell_type": "markdown",
      "metadata": {
        "id": "pp-f9WHdI0p6",
        "colab_type": "text"
      },
      "source": [
        "# Get name and salary (name, salary) as list of tuples for n number of employees through keyboard and print them in name alphabetical order with salary"
      ]
    },
    {
      "cell_type": "code",
      "metadata": {
        "id": "5BH4x9DMI7Hy",
        "colab_type": "code",
        "colab": {
          "base_uri": "https://localhost:8080/",
          "height": 118
        },
        "outputId": "83b8ab3f-fef6-4342-ce34-531f655bf8c6"
      },
      "source": [
        "print(sorted([(input(\"Enter name: \"), input(\"Enter salary: \")) for i in range(int(input(\"Enter number of employees\")))], key=lambda x: x[0]))"
      ],
      "execution_count": 9,
      "outputs": [
        {
          "output_type": "stream",
          "text": [
            "Enter number of employees2\n",
            "Enter name: ankit\n",
            "Enter salary: 23000\n",
            "Enter name: shetty\n",
            "Enter salary: 2400\n",
            "[('ankit', '23000'), ('shetty', '2400')]\n"
          ],
          "name": "stdout"
        }
      ]
    },
    {
      "cell_type": "code",
      "metadata": {
        "id": "7CeW9SXhItU5",
        "colab_type": "code",
        "colab": {}
      },
      "source": [
        ""
      ],
      "execution_count": null,
      "outputs": []
    }
  ]
}